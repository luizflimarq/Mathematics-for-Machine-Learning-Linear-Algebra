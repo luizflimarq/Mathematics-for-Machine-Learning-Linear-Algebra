{
  "nbformat": 4,
  "nbformat_minor": 0,
  "metadata": {
    "colab": {
      "name": "ReflectingBear.ipynb",
      "provenance": [],
      "authorship_tag": "ABX9TyNRwvk9vgOBBO9FMAY1eWVD",
      "include_colab_link": true
    },
    "kernelspec": {
      "name": "python3",
      "display_name": "Python 3"
    }
  },
  "cells": [
    {
      "cell_type": "markdown",
      "metadata": {
        "id": "view-in-github",
        "colab_type": "text"
      },
      "source": [
        "<a href=\"https://colab.research.google.com/github/luizflimarq/Mathematics-for-Machine-Learning-Linear-Algebra/blob/main/ReflectingBear.ipynb\" target=\"_parent\"><img src=\"https://colab.research.google.com/assets/colab-badge.svg\" alt=\"Open In Colab\"/></a>"
      ]
    },
    {
      "cell_type": "code",
      "metadata": {
        "colab": {
          "base_uri": "https://localhost:8080/",
          "height": 231
        },
        "id": "Zp92vM0Gt4vl",
        "outputId": "0c76d4fc-bedb-4c6d-f3a1-918cab38e0cc"
      },
      "source": [
        "# First load Pyplot, a graph plotting library.\r\n",
        "%matplotlib inline\r\n",
        "import matplotlib.pyplot as plt\r\n",
        "\r\n",
        "# This is the matrix of Bear's basis vectors.\r\n",
        "# (When you've done the exercise once, see what happns when you change Bear's basis.)\r\n",
        "bearBasis = np.array(\r\n",
        "    [[1,   -1],\r\n",
        "     [1.5, 2]])\r\n",
        "# This line uses your code to build a transformation matrix for us to use.\r\n",
        "T = build_reflection_matrix(bearBasis)\r\n",
        "\r\n",
        "# Bear is drawn as a set of polygons, the vertices of which are placed as a matrix list of column vectors.\r\n",
        "# We have three of these non-square matrix lists: bear_white_fur, bear_black_fur, and bear_face.\r\n",
        "# We'll make new lists of vertices by applying the T matrix you've calculated.\r\n",
        "reflected_bear_white_fur = T @ bear_white_fur\r\n",
        "reflected_bear_black_fur = T @ bear_black_fur\r\n",
        "reflected_bear_face = T @ bear_face\r\n",
        "\r\n",
        "# This next line runs a code to set up the graphics environment.\r\n",
        "ax = draw_mirror(bearBasis)\r\n",
        "\r\n",
        "# We'll first plot Bear, his white fur, his black fur, and his face.\r\n",
        "ax.fill(bear_white_fur[0], bear_white_fur[1], color=bear_white, zorder=1)\r\n",
        "ax.fill(bear_black_fur[0], bear_black_fur[1], color=bear_black, zorder=2)\r\n",
        "ax.plot(bear_face[0], bear_face[1], color=bear_white, zorder=3)\r\n",
        "\r\n",
        "# Next we'll plot Bear's reflection.\r\n",
        "ax.fill(reflected_bear_white_fur[0], reflected_bear_white_fur[1], color=bear_white, zorder=1)\r\n",
        "ax.fill(reflected_bear_black_fur[0], reflected_bear_black_fur[1], color=bear_black, zorder=2)\r\n",
        "ax.plot(reflected_bear_face[0], reflected_bear_face[1], color=bear_white, zorder=3);\r\n"
      ],
      "execution_count": 3,
      "outputs": [
        {
          "output_type": "error",
          "ename": "NameError",
          "evalue": "ignored",
          "traceback": [
            "\u001b[0;31m---------------------------------------------------------------------------\u001b[0m",
            "\u001b[0;31mNameError\u001b[0m                                 Traceback (most recent call last)",
            "\u001b[0;32m<ipython-input-3-ffd8eb861ef9>\u001b[0m in \u001b[0;36m<module>\u001b[0;34m()\u001b[0m\n\u001b[1;32m      5\u001b[0m \u001b[0;31m# This is the matrix of Bear's basis vectors.\u001b[0m\u001b[0;34m\u001b[0m\u001b[0;34m\u001b[0m\u001b[0;34m\u001b[0m\u001b[0m\n\u001b[1;32m      6\u001b[0m \u001b[0;31m# (When you've done the exercise once, see what happns when you change Bear's basis.)\u001b[0m\u001b[0;34m\u001b[0m\u001b[0;34m\u001b[0m\u001b[0;34m\u001b[0m\u001b[0m\n\u001b[0;32m----> 7\u001b[0;31m bearBasis = np.array(\n\u001b[0m\u001b[1;32m      8\u001b[0m     [[1,   -1],\n\u001b[1;32m      9\u001b[0m      [1.5, 2]])\n",
            "\u001b[0;31mNameError\u001b[0m: name 'np' is not defined"
          ]
        }
      ]
    },
    {
      "cell_type": "code",
      "metadata": {
        "id": "CYCSuzS4xQ3L"
      },
      "source": [
        ""
      ],
      "execution_count": null,
      "outputs": []
    }
  ]
}